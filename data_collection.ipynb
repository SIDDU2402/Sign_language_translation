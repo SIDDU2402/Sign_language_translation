{
 "cells": [
  {
   "cell_type": "code",
   "execution_count": 1,
   "id": "ce8a528d-9a35-47df-a41a-922538997318",
   "metadata": {},
   "outputs": [],
   "source": [
    "import cv2\n",
    "import os\n",
    "\n",
    "def capture_images(label, num_images=200):\n",
    "    \n",
    "    if not os.path.exists(f'data/{label}'):\n",
    "        os.makedirs(f'data/{label}')\n",
    "\n",
    "    cap = cv2.VideoCapture(0)\n",
    "    count = 0\n",
    "\n",
    "    while count < num_images:\n",
    "        ret, frame = cap.read()\n",
    "        if not ret:\n",
    "            break\n",
    "        cv2.imshow('Frame', frame)\n",
    "        \n",
    "        \n",
    "        cv2.imwrite(f'data/{label}/{count}.jpg', frame)\n",
    "        count += 1\n",
    "\n",
    "        \n",
    "        if cv2.waitKey(1) & 0xFF == ord('q'):\n",
    "            break\n",
    "    \n",
    "    cap.release()\n",
    "    cv2.destroyAllWindows()\n",
    "\n",
    "\n",
    "capture_images('sss')\n"
   ]
  }
 ],
 "metadata": {
  "kernelspec": {
   "display_name": "Python 3 (ipykernel)",
   "language": "python",
   "name": "python3"
  },
  "language_info": {
   "codemirror_mode": {
    "name": "ipython",
    "version": 3
   },
   "file_extension": ".py",
   "mimetype": "text/x-python",
   "name": "python",
   "nbconvert_exporter": "python",
   "pygments_lexer": "ipython3",
   "version": "3.12.4"
  }
 },
 "nbformat": 4,
 "nbformat_minor": 5
}
